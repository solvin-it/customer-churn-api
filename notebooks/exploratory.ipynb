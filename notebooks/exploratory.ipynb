{
 "cells": [
  {
   "cell_type": "markdown",
   "id": "6b13534b",
   "metadata": {},
   "source": [
    "# Telco Customer Churn\n",
    "By: Jose Fernando A. Gonzales"
   ]
  },
  {
   "cell_type": "markdown",
   "id": "366f07d1",
   "metadata": {},
   "source": [
    "The purpose of this project is to practice my data analysis skills and learn how to deploy production-grade machine learning models."
   ]
  },
  {
   "cell_type": "markdown",
   "id": "3ff0855b",
   "metadata": {},
   "source": [
    "## Downloading the dataset"
   ]
  },
  {
   "cell_type": "code",
   "execution_count": null,
   "id": "27482420",
   "metadata": {},
   "outputs": [
    {
     "name": "stdout",
     "output_type": "stream",
     "text": [
      "Dataset downloaded to: /Users/josefernandogonzales/.cache/kagglehub/datasets/blastchar/telco-customer-churn/versions/1\n"
     ]
    }
   ],
   "source": [
    "# import kagglehub\n",
    "\n",
    "# path = kagglehub.dataset_download(\"blastchar/telco-customer-churn\")\n",
    "\n",
    "# print(f\"Dataset downloaded to: {path}\")"
   ]
  },
  {
   "cell_type": "markdown",
   "id": "dcfffe1a",
   "metadata": {},
   "source": [
    "## Initial Exploratory Data Analysis"
   ]
  },
  {
   "cell_type": "code",
   "execution_count": 4,
   "id": "69b2ef2f",
   "metadata": {},
   "outputs": [],
   "source": [
    "import pandas as pd\n",
    "import numpy as np\n",
    "import matplotlib.pyplot as plt\n",
    "import seaborn as sns"
   ]
  },
  {
   "cell_type": "code",
   "execution_count": null,
   "id": "546450ee",
   "metadata": {},
   "outputs": [],
   "source": []
  }
 ],
 "metadata": {
  "kernelspec": {
   "display_name": "env (3.12.2)",
   "language": "python",
   "name": "python3"
  },
  "language_info": {
   "codemirror_mode": {
    "name": "ipython",
    "version": 3
   },
   "file_extension": ".py",
   "mimetype": "text/x-python",
   "name": "python",
   "nbconvert_exporter": "python",
   "pygments_lexer": "ipython3",
   "version": "3.12.2"
  }
 },
 "nbformat": 4,
 "nbformat_minor": 5
}
